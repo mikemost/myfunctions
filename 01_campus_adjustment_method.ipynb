{
 "cells": [
  {
   "cell_type": "markdown",
   "metadata": {},
   "source": [
    "The loop traverse network shown in figure below is a simple network with initial bearing of line P–Q fixed as 79° 37ʹ 22ʺ and coordinates of fixed-point P given as E = 1000m and N = 1150m. Table below indicates network distance and interior angle measurements made with a total station instrument having $SD_{HA}$ of ±3ʺ and $SD_{Distance}$ of 2mm + 2ppm. The $SD_{Angle}$ is ±4ʺ for a set of horizontal angular measurement at each station; the horizontal distance SDs are derived from distance specification with assumption that instrument and targets can be centered to an accuracy of ±0.8mm each. Adjust the measurements by campus method.\n",
    "\n",
    "<div align=\"left\">\n",
    "\n",
    "|Observations|Figure|\n",
    "|:-:|:-:|\n",
    "|<img src=\"images/fig1.png\" width=\"650\">|<img src=\"images/fig2.png\" width=\"300\">|\n",
    "\n",
    "</div>"
   ]
  },
  {
   "cell_type": "code",
   "execution_count": null,
   "metadata": {},
   "outputs": [
    {
     "ename": "",
     "evalue": "",
     "output_type": "error",
     "traceback": [
      "\u001b[1;31mFailed to connect to remote Jupyter Server.\n",
      "\u001b[1;31mCheck that the Jupyter Server URL can be reached from a browser.\n",
      "\u001b[1;31mhttps://jupyter-server-j994rj6r9j3pwrr-8888.app.github.dev/. Click <a href='https://aka.ms/vscjremoteweb'>here</a> for more information."
     ]
    }
   ],
   "source": [
    "import pandas as pd\n",
    "import numpy as np\n",
    "from myfunctions import degtodms\n",
    "from math import sin, cos, radians, degrees\n",
    "\n",
    "def calculate_bearing(bearing, angle):\n",
    "    return np.where(bearing + 180 + angle > 360,\n",
    "                    bearing + 180 + angle - 360,\n",
    "                    bearing + 180 + angle)\n",
    "\n",
    "def calculate_corrections(angles):\n",
    "    sum_distance = angles['distance'].sum()\n",
    "    sum_de = angles['de'].sum()\n",
    "    sum_dn = angles['dn'].sum()\n",
    "\n",
    "    angles['corr_de'] = -sum_de*(angles['distance']/sum_distance)\n",
    "    angles['corr_dn'] = -sum_dn*(angles['distance']/sum_distance)\n",
    "\n",
    "def calculate_adjusted_coordinates(angles, ep, np):\n",
    "    angles['adj_e'] = 0.0\n",
    "    angles['adj_n'] = 0.0\n",
    "\n",
    "    angles.loc[0, 'adj_e'] = ep + angles.iloc[-1]['adj_de']\n",
    "    angles.loc[0, 'adj_n'] = np + angles.iloc[-1]['adj_dn']\n",
    "\n",
    "    for i in range(1, len(angles)):\n",
    "        angles.loc[i, 'adj_e'] = angles.loc[i - 1, 'adj_e'] + angles.loc[i - 1, 'adj_de']\n",
    "        angles.loc[i, 'adj_n'] = angles.loc[i - 1, 'adj_n'] + angles.loc[i - 1, 'adj_dn']\n",
    "\n",
    "# Read the data from Excel\n",
    "angles = pd.read_excel('observations02.xlsx')\n",
    "angles['angle'] = angles['deg'] + angles['min'] / 60 + angles['sec'] / 3600\n",
    "angles_sum = angles['angle'].sum()\n",
    "\n",
    "# Calculate the correction per angle\n",
    "correction = (angles_sum - (len(angles) - 2) * 180) / len(angles)\n",
    "\n",
    "# Adjust the angles\n",
    "angles['adjusted_angle'] = angles['angle'] - correction\n",
    "\n",
    "# Calculate bearings\n",
    "first_bearing = 79 + 37/60 + 22/3600\n",
    "angles.loc[0, 'bearing'] = calculate_bearing(first_bearing, angles.loc[0, 'adjusted_angle'])\n",
    "\n",
    "for i in range(1, len(angles)):\n",
    "    angles.loc[i, 'bearing'] = calculate_bearing(angles.loc[i - 1, 'bearing'], angles.loc[i, 'adjusted_angle'])\n",
    "\n",
    "# Calculate de and dn values\n",
    "angles['de'] = angles['distance'] * np.sin(np.radians(angles['bearing']))\n",
    "angles['dn'] = angles['distance'] * np.cos(np.radians(angles['bearing']))\n",
    "\n",
    "# Calculate corrections\n",
    "calculate_corrections(angles)\n",
    "\n",
    "# Apply corrections\n",
    "angles['adj_de'] = angles['de'] + angles['corr_de']\n",
    "angles['adj_dn'] = angles['dn'] + angles['corr_dn']\n",
    "\n",
    "# Calculate adjusted coordinates\n",
    "ep, np = 1000.000, 1150.000\n",
    "calculate_adjusted_coordinates(angles, ep, np)\n",
    "\n",
    "# Display the results\n",
    "display(angles[['from', 'at', 'to', 'angle', 'distance', 'bearing', 'de', 'dn',\n",
    "                'corr_de', 'corr_dn', 'adj_de', 'adj_dn', 'adj_e', 'adj_n']].round(4))\n",
    "\n",
    "sum_de = angles['de'].sum()\n",
    "sum_dn = angles['dn'].sum()\n",
    "\n",
    "linear_closure = (sum_de**2 + sum_dn**2)**0.5\n",
    "\n",
    "print(f'Linear Misclosure: {linear_closure:.3f} m')\n",
    "\n",
    "from sigfig import round\n",
    "\n",
    "print(f'Ratio of Linear Closure to Perimeter: 1 : {round((linear_closure / angles[\"distance\"].sum())**-1, sigfigs=2):g}')\n",
    "\n",
    "from math import atan2\n",
    "bearing = degrees(atan2(sum_de, sum_dn))\n",
    "\n",
    "# Adjust the bearing to be in the range [0, 360]\n",
    "if bearing < 0:\n",
    "    bearing += 360\n",
    "\n",
    "print(f'Orientation of Linear Misclosure: {degtodms(bearing)}')"
   ]
  },
  {
   "cell_type": "code",
   "execution_count": null,
   "metadata": {},
   "outputs": [],
   "source": []
  }
 ],
 "metadata": {
  "kernelspec": {
   "display_name": "Python 3 (ipykernel)",
   "language": "python",
   "name": "python3"
  },
  "vscode": {
   "interpreter": {
    "hash": "54c17ef7be0267f1b05f230e69d3744bd046d6a370718578f7026cf441d0e60b"
   }
  }
 },
 "nbformat": 4,
 "nbformat_minor": 4
}
