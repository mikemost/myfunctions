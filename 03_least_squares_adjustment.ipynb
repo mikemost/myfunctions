{
 "cells": [
  {
   "cell_type": "markdown",
   "metadata": {
    "pycharm": {
     "name": "#%% md\n"
    }
   },
   "source": [
    "The loop traverse network shown in figure below is a simple network with initial bearing of line P–Q fixed as 79° 37ʹ 22ʺ and coordinates of fixed-point P given as E = 1000m and N = 1150m. Table below indicates network distance and interior angle measurements made with a total station instrument having HA SD of ±3ʺ and Distance SD of 2mm + 2ppm. The angular error was computed as ±4ʺ for a set of horizontal angular measurement at each station; the horizontal distance SDs are derived from distance specification with assumption that instrument and targets can be centered to an accuracy of ±0.8mm each. Adjust the measurements by transit method. Answer the following:\\\n",
    "(a) Adjust the measurements by least squares method to get adjusted coordinates of Q, R and S.\\\n",
    "(b) The standard deviation of adjusted coordinates of points Q, R and S.\\\n",
    "(c) The adjusted angle and distance observations.\\\n",
    "(d) The aposteriori variance factor.\n",
    "\n",
    "<div align=\"left\">\n",
    "\n",
    "|Figure|Observations|Coordinates|\n",
    "|:-:|:-:|:-:|\n",
    "|<img src=\"images/fig1a.png\" width=\"650\">|<img src=\"images/fig2.png\" width=\"300\">|<img src=\"images/fig3.png\" width=\"350\">\n",
    "\n",
    "</div>"
   ]
  },
  {
   "cell_type": "code",
   "execution_count": 8,
   "metadata": {
    "pycharm": {
     "name": "#%%\n"
    }
   },
   "outputs": [],
   "source": [
    "# Import necessary libraries\n",
    "from math import pi as pi, radians as rad, degrees as deg\n",
    "from sympy import sqrt, atan, symbols, Matrix, diag\n",
    "\n",
    "def degtodms(decimal):\n",
    "    \"\"\"Convert decimal degrees to DMS string\"\"\"\n",
    "    degrees = int(decimal)\n",
    "    minutes = int((decimal - degrees) * 60)\n",
    "    seconds = (decimal - degrees - minutes / 60) * 3600\n",
    "    return f\"{degrees}° {minutes}' {seconds:.0f}\\\"\"\n",
    "\n",
    "def traverse(txq, tyq, txr, tyr, txs, tys, max_iterations=4, max_correction=0.0010):\n",
    "    # Initialize variables to store the final values\n",
    "    a = None; l = None; w = None; p = None\n",
    "    n = None; d = None; df = None\n",
    "    \n",
    "    # Given observations\n",
    "    angqq = rad(119+44/60+50/3600)\n",
    "    angrr = rad(45+10/3600)\n",
    "    angss = rad(130+35/60+50/3600)\n",
    "    angpp = rad(64+39/60+20/3600)\n",
    "    dqrr = 223.600; drss = 237.184\n",
    "    dspp = 145.775; dpqq = 180.278\n",
    "    dirpqq = rad(79+37/60+22/3600)\n",
    "    \n",
    "    for iteration in range(max_iterations):\n",
    "        # Parametric model equations l = f(x)\n",
    "        xp, yp, xq, yq, xr, yr, xs, ys = symbols('xp, yp, xq, yq, xr, yr, xs, ys')\n",
    "        angq  = atan((xr-xq)/(yr-yq)) - (atan((xp-xq)/(yp-yq)) + pi) + 2*pi\n",
    "        angr = (atan((xs-xr)/(ys-yr)) + pi) - (atan((xq-xr)/(yq-yr)) + pi)\n",
    "        angs = (atan((xp-xs)/(yp-ys)) + pi) - atan((xr-xs)/(yr-ys))\n",
    "        angp  = atan((xq-xp)/(yq-yp)) - atan((xs-xp)/(ys-yp))\n",
    "        dqr = sqrt((xr-xq)**2 + (yr-yq)**2)\n",
    "        drs = sqrt((xs-xr)**2 + (ys-yr)**2)\n",
    "        dsp = sqrt((xp-xs)**2 + (yp-ys)**2)\n",
    "        dpq = sqrt((xq-xp)**2 + (yq-yp)**2)\n",
    "        dirpq = atan((xq-xp)/(yq-yp))\n",
    "\n",
    "        # Parametric model equations in matrix form\n",
    "        obs = Matrix([angq, angr, angs, angp, dqr, drs, dsp, dpq, dirpq])\n",
    "        par = Matrix([xq, yq, xr, yr, xs, ys])\n",
    "        df = len(obs) - len(par)\n",
    "\n",
    "        # Jacobian wrt unknown arameters\n",
    "        j = obs.jacobian(par)\n",
    "\n",
    "        # Jacobian evaluated at given values as A matrix\n",
    "        a = j.subs({xp: 1000.000, yp: 1150.000,\n",
    "                    xq: txq, yq: tyq,\n",
    "                    xr: txr, yr: tyr,\n",
    "                    xs: txs, ys: tys})\n",
    "\n",
    "        # Computed observations L0\n",
    "        l0 = obs.subs({xp: 1000.000, yp: 1150.000,\n",
    "                       xq: txq, yq: tyq,\n",
    "                       xr: txr, yr: tyr,\n",
    "                       xs: txs, ys: tys})\n",
    "\n",
    "        # Given observations L\n",
    "        l = Matrix([angqq, angrr,\n",
    "                    angss, angpp,\n",
    "                    dqrr, drss,\n",
    "                    dspp, dpqq,\n",
    "                    dirpqq])\n",
    "\n",
    "        # Misclosure vector w\n",
    "        w = l0 - l\n",
    "\n",
    "        # Wight matrix P\n",
    "        p = diag(rad(4/3600)**-2, rad(4/3600)**-2,\n",
    "                 rad(4/3600)**-2, rad(4/3600)**-2,\n",
    "                 0.0027**-2, 0.0027**-2, 0.0027**-2, 0.0027**-2, rad(4/3600)**-2)\n",
    "\n",
    "        # Matrix of coefficients of normal equations N and u\n",
    "        n = a.T@p@a\n",
    "        u = a.T@p@w\n",
    "\n",
    "        # Vector of corrections d to aproximate arameters\n",
    "        d = -n.inv()@u\n",
    "\n",
    "        # Check stoping criteria\n",
    "        correction = max(abs(d))\n",
    "        \n",
    "        # Print iteration information\n",
    "        print(f'\\nIteration {iteration + 1}:')\n",
    "        print(f\"Initial Coordinates of Q, R, S:\")\n",
    "        print(f\"xP: {1000:.4f}m  yP: {1150:.4f}m\")\n",
    "        print(f\"xQ: {txq:.4f}m  yQ: {tyq:.4f}m\")\n",
    "        print(f\"xR: {txr:.4f}m  yR: {tyr:.4f}m\")\n",
    "        print(f\"xS: {txs:.4f}m  yS: {tys:.4f}m\")\n",
    "        \n",
    "        # Display corrections\n",
    "        print(f'Correction to Initial Coordinates:\\\n",
    "        \\ndxQ: {d[0]:.4f}m  dyQ: {d[1]:.4f}m\\\n",
    "        \\ndxR: {d[2]:.4f}m  dyR: {d[3]:.4f}m\\\n",
    "        \\ndxS: {d[4]:.4f}m  dyS: {d[5]:.4f}m')\n",
    "        \n",
    "        # Update initial coordinates with corrections\n",
    "        txq += d[0]; tyq += d[1]\n",
    "        txr += d[2]; tyr += d[3]\n",
    "        txs += d[4]; tys += d[5]\n",
    "        \n",
    "        # Print adjusted coordinates\n",
    "        print(f\"Adjusted Coordinates of Q, R, S, T, U and W:\")\n",
    "        print(f\"xP: {1000:.4f}m  yP: {1150:.4f}m\")\n",
    "        print(f\"xQ: {txq:.4f}m   yQ: {tyq:.4f}m\")\n",
    "        print(f\"xR: {txr:.4f}m   yR: {tyr:.4f}m\")\n",
    "        print(f\"xS: {txs:.4f}m   yS: {tys:.4f}m\")\n",
    "        \n",
    "        if correction < max_correction: # type: ignore\n",
    "            print(\n",
    "            f\"\\nStoping Criterion Met: Correction {correction:.4f}m is less than {max_correction:.4f}m\"\n",
    "                 )\n",
    "            break\n",
    "        \n",
    "    # Store the final values\n",
    "    a = a; l = l; w = w; p = p\n",
    "    n = n; d = d; df = df\n",
    "        \n",
    "    return a, l, w, p, n, d, df\n",
    "\n",
    "def postdj(a, l, w, p, n, d, df):\n",
    "    # Residual vector v\n",
    "    v = a@d+w\n",
    "\n",
    "    # Aposteriori variance of unit weight s02\n",
    "    s02 = v.T@p@v/df\n",
    "    s02 = s02[0]\n",
    "\n",
    "    # Cofactor of adjusted arameters qx\n",
    "    qx = n.inv()\n",
    "\n",
    "    # Covariance matrix of djusted arameters cx\n",
    "    cx = s02*qx\n",
    "\n",
    "    adjobs = l + v\n",
    "\n",
    "    # Adjusted Observations\n",
    "    print(f\"Adjusted Observations:\")\n",
    "    print(f'Angle Q: {degtodms(deg(adjobs[0]))}')\n",
    "    print(f'Angle R: {degtodms(deg(adjobs[1]))}')\n",
    "    print(f'Angle S: {degtodms(deg(adjobs[2]))}')\n",
    "    print(f'Angle P: {degtodms(deg(adjobs[3]))}')\n",
    "    print(f\"Distance QR: {adjobs[4]:.3f}m\")\n",
    "    print(f\"Distance RS: {adjobs[5]:.3f}m\")\n",
    "    print(f\"Distance SP: {adjobs[6]:.3f}m\")\n",
    "    print(f\"Distance PQ: {adjobs[7]:.3f}m\")\n",
    "    print(f'Direction PQ: {degtodms(deg(adjobs[8]))}')\n",
    "    \n",
    "    print(f\"\\nStandard Deviation of Q, R, S:\")\n",
    "    print(f\"SDxP: {0:.4f}m   SDyP: {0:.4f}m\")\n",
    "    print(f\"SDxQ: {sqrt(cx[0,0]):.4f}m   SDyQ: {sqrt(cx[1,1]):.4f}m\")\n",
    "    print(f\"SDxR: {sqrt(cx[2,2]):.4f}m   SDyR: {sqrt(cx[3,3]):.4f}m\")\n",
    "    print(f\"SDxS: {sqrt(cx[4,4]):.4f}m   SDyS: {sqrt(cx[5,5]):.4f}m\")\n",
    "    \n",
    "    print(f\"\\nApostriori Variance Factor:\")\n",
    "    print(f\"S02 = {s02:.2f}\")"
   ]
  },
  {
   "cell_type": "code",
   "execution_count": 7,
   "metadata": {
    "pycharm": {
     "name": "#%%\n"
    }
   },
   "outputs": [
    {
     "name": "stdout",
     "output_type": "stream",
     "text": [
      "\n",
      "Iteration 1:\n",
      "Initial Coordinates of Q, R, S:\n",
      "xP: 1000.0000m  yP: 1150.0000m\n",
      "xQ: 1177.0000m  yQ: 1180.0000m\n",
      "xR: 1250.0000m  yR: 1390.0000m\n",
      "xS: 1037.0000m  yS: 1290.0000m\n",
      "Correction to Initial Coordinates:        \n",
      "dxQ: 0.3489m  dyQ: 2.4664m        \n",
      "dxR: 1.5051m  dyR: 3.4132m        \n",
      "dxS: 0.6454m  dyS: 0.8308m\n",
      "Adjusted Coordinates of Q, R, S, T, U and W:\n",
      "xP: 1000.0000m  yP: 1150.0000m\n",
      "xQ: 1177.3489m   yQ: 1182.4664m\n",
      "xR: 1251.5051m   yR: 1393.4132m\n",
      "xS: 1037.6454m   yS: 1290.8308m\n",
      "\n",
      "Iteration 2:\n",
      "Initial Coordinates of Q, R, S:\n",
      "xP: 1000.0000m  yP: 1150.0000m\n",
      "xQ: 1177.3489m  yQ: 1182.4664m\n",
      "xR: 1251.5051m  yR: 1393.4132m\n",
      "xS: 1037.6454m  yS: 1290.8308m\n",
      "Correction to Initial Coordinates:        \n",
      "dxQ: -0.0165m  dyQ: 0.0073m        \n",
      "dxR: -0.0112m  dyR: 0.0053m        \n",
      "dxS: 0.0028m  dyS: -0.0027m\n",
      "Adjusted Coordinates of Q, R, S, T, U and W:\n",
      "xP: 1000.0000m  yP: 1150.0000m\n",
      "xQ: 1177.3324m   yQ: 1182.4737m\n",
      "xR: 1251.4940m   yR: 1393.4186m\n",
      "xS: 1037.6482m   yS: 1290.8281m\n",
      "\n",
      "Iteration 3:\n",
      "Initial Coordinates of Q, R, S:\n",
      "xP: 1000.0000m  yP: 1150.0000m\n",
      "xQ: 1177.3324m  yQ: 1182.4737m\n",
      "xR: 1251.4940m  yR: 1393.4186m\n",
      "xS: 1037.6482m  yS: 1290.8281m\n",
      "Correction to Initial Coordinates:        \n",
      "dxQ: -0.0000m  dyQ: -0.0000m        \n",
      "dxR: -0.0000m  dyR: -0.0000m        \n",
      "dxS: -0.0000m  dyS: -0.0000m\n",
      "Adjusted Coordinates of Q, R, S, T, U and W:\n",
      "xP: 1000.0000m  yP: 1150.0000m\n",
      "xQ: 1177.3324m   yQ: 1182.4737m\n",
      "xR: 1251.4940m   yR: 1393.4186m\n",
      "xS: 1037.6482m   yS: 1290.8281m\n",
      "\n",
      "Stoping Criterion Met: Correction 0.0000m is less than 0.0010m\n"
     ]
    }
   ],
   "source": [
    "# Perform traverse and djust the aproximate points\n",
    "a, l, w, p, n, d, df = traverse(1177.000, 1180.000,\n",
    "                                1250.000, 1390.000,\n",
    "                                1037.000, 1290.000)"
   ]
  },
  {
   "cell_type": "code",
   "execution_count": 3,
   "metadata": {},
   "outputs": [
    {
     "name": "stdout",
     "output_type": "stream",
     "text": [
      "0° 0' 0.29\"\n"
     ]
    }
   ],
   "source": [
    "v = a@d+w\n",
    "print(degtodms(deg(v[3])))"
   ]
  },
  {
   "cell_type": "markdown",
   "metadata": {},
   "source": [
    "<img src=\"images/fig1.png\" width=\"650\">"
   ]
  },
  {
   "cell_type": "code",
   "execution_count": 9,
   "metadata": {
    "collapsed": false,
    "jupyter": {
     "outputs_hidden": false
    },
    "pycharm": {
     "name": "#%%\n"
    }
   },
   "outputs": [
    {
     "name": "stdout",
     "output_type": "stream",
     "text": [
      "Adjusted Observations:\n",
      "Angle Q: 119° 44' 50\"\n",
      "Angle R: 45° 0' 4\"\n",
      "Angle S: 130° 35' 46\"\n",
      "Angle P: 64° 39' 20\"\n",
      "Distance QR: 223.602m\n",
      "Distance RS: 237.181m\n",
      "Distance SP: 145.774m\n",
      "Distance PQ: 180.281m\n",
      "Direction PQ: 79° 37' 22\"\n",
      "\n",
      "Standard Deviation of Q, R, S:\n",
      "SDxP: 0.0000m   SDyP: 0.0000m\n",
      "SDxQ: 0.0036m   SDyQ: 0.0053m\n",
      "SDxR: 0.0088m   SDyR: 0.0085m\n",
      "SDxS: 0.0052m   SDyS: 0.0035m\n",
      "\n",
      "Apostriori Variance Factor:\n",
      "S02 = 2.32\n"
     ]
    }
   ],
   "source": [
    "# Carry out post djustment analysis\n",
    "postdj(a, l, w, p, n, d, df)"
   ]
  }
 ],
 "metadata": {
  "kernelspec": {
   "display_name": "Python 3 (ipykernel)",
   "language": "python",
   "name": "python3"
  },
  "language_info": {
   "codemirror_mode": {
    "name": "ipython",
    "version": 3
   },
   "file_extension": ".py",
   "mimetype": "text/x-python",
   "name": "python",
   "nbconvert_exporter": "python",
   "pygments_lexer": "ipython3",
   "version": "3.12.3"
  },
  "vscode": {
   "interpreter": {
    "hash": "54c17ef7be0267f1b05f230e69d3744bd046d6a370718578f7026cf441d0e60b"
   }
  }
 },
 "nbformat": 4,
 "nbformat_minor": 4
}
